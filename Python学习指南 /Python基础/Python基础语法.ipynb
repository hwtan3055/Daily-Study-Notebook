{
  "nbformat": 4,
  "nbformat_minor": 0,
  "metadata": {
    "colab": {
      "provenance": [],
      "toc_visible": true,
      "authorship_tag": "ABX9TyNL+QL9voNHcojcWcR0mZID",
      "include_colab_link": true
    },
    "kernelspec": {
      "name": "python3",
      "display_name": "Python 3"
    },
    "language_info": {
      "name": "python"
    }
  },
  "cells": [
    {
      "cell_type": "markdown",
      "metadata": {
        "id": "view-in-github",
        "colab_type": "text"
      },
      "source": [
        "<a href=\"https://colab.research.google.com/github/hwtan3055/Daily-Study-Notebook/blob/main/Python%E5%AD%A6%E4%B9%A0%E6%8C%87%E5%8D%97%20/Python%E5%9F%BA%E7%A1%80/Python%E5%9F%BA%E7%A1%80%E8%AF%AD%E6%B3%95.ipynb\" target=\"_parent\"><img src=\"https://colab.research.google.com/assets/colab-badge.svg\" alt=\"Open In Colab\"/></a>"
      ]
    },
    {
      "cell_type": "markdown",
      "source": [
        "## 一、Python的基础数据类型\n",
        "Python3 中**常见的数据类型**有：\n",
        "\n",
        "+ Number（数字）\n",
        "+ String（字符串）\n",
        "+ bool（布尔类型）\n",
        "+ List（列表）\n",
        "+ Tuple（元组）\n",
        "+ Set（集合）\n",
        "+ Dictionary（字典）\n",
        "\n",
        "**可变类型与不可变类型**：\n",
        "\n",
        "+ **不可变类型**是指：一旦创建，其值就不能被修改的数据类型。如果要对不可变对象进行\"修改\"，实际上是创建了一个新的对象。\n",
        "\n",
        "+ **可变类型**是指其值可以被修改的数据类型\n",
        "\n",
        "Python3 的六个标准数据类型中：\n",
        "+ **不可变数据（3 个）：** Number（数字）、String（字符串）、Tuple（元组）；\n",
        "+ **可变数据（3 个）：** List（列表）、Dictionary（字典）、Set（集合）。\n"
      ],
      "metadata": {
        "id": "l4NCmv7KYo4o"
      }
    },
    {
      "cell_type": "markdown",
      "source": [
        "### 1、判断实例类型的方法\n",
        "Python提供了两种内置方法：\n",
        "+ （1）`type(x)`：用来查询变量所指的对象类,它不会认为子类是一种父类类型\n",
        "+ （2）`isinstance(x, 类型)`：判断某个对象是不是某个类的实例，它会认为子类是一种父类类型\n",
        "\n",
        "tips：一种相关的内置函数是 `issubclass(类型1,类型2)`。\n",
        "+ 一个类是自己的子类\n",
        "+ 一个类是父类和所有祖先类的子类\n",
        "+ python中所有类都是object的子类[链接文字](https://)"
      ],
      "metadata": {
        "id": "S_bPVNyEajDA"
      }
    },
    {
      "cell_type": "code",
      "execution_count": 3,
      "metadata": {
        "colab": {
          "base_uri": "https://localhost:8080/"
        },
        "id": "7jUcHhkel3k2",
        "outputId": "d4835a97-a7e7-4f58-f6c0-2ffffb6829cb"
      },
      "outputs": [
        {
          "output_type": "stream",
          "name": "stdout",
          "text": [
            "type: <class 'int'> <class 'float'> <class 'bool'> <class 'complex'>\n",
            "instance: True False\n"
          ]
        }
      ],
      "source": [
        "# 对于python的基础类型，演示type和isinstance的用法\n",
        "a, b, c, d = 20, 5.5, True, 4+3j\n",
        "print(\"type:\",type(a), type(b), type(c), type(d))\n",
        "print(\"instance:\",isinstance(b,float),isinstance(b,int))"
      ]
    },
    {
      "cell_type": "code",
      "source": [
        "# 对于有继承关系的类型\n",
        "# 父类\n",
        "class Parent:\n",
        "  pass\n",
        "# 子类\n",
        "class Child(Parent):\n",
        "  pass\n",
        "# 实例化一个父类和子类\n",
        "parent = Parent()\n",
        "child = Child()\n",
        "# 观察type和isinstance用法的区别\n",
        "print(\"type(parent):\",type(parent))\n",
        "print(\"type(child):\",type(child))\n",
        "print(\"isinstance(parent,Parent):\",isinstance(parent,Parent))\n",
        "print(\"isinstance(parent,Child):\",isinstance(parent,Child))\n",
        "print(\"isinstance(child,Parent):\",isinstance(child,Parent))\n",
        "print(\"isinstance(child,Child):\",isinstance(child,Child))\n",
        "\n",
        "# issubclass的用法\n",
        "print(\"issubclass(Child,Child):\",issubclass(Child,Child))\n",
        "print(\"issubclass(Child,Parent):\",issubclass(Child,Parent))\n",
        "print(\"issubclass(Child,object):\",issubclass(Child,object))\n",
        "print(\"issubclass(int,object):\",issubclass(int,object))"
      ],
      "metadata": {
        "colab": {
          "base_uri": "https://localhost:8080/"
        },
        "id": "lA9bT0PZYoJM",
        "outputId": "13c6cc47-b91c-4307-c06c-74df4e554e9c"
      },
      "execution_count": 12,
      "outputs": [
        {
          "output_type": "stream",
          "name": "stdout",
          "text": [
            "type(parent): <class '__main__.Parent'>\n",
            "type(child): <class '__main__.Child'>\n",
            "isinstance(parent,Parent): True\n",
            "isinstance(parent,Child): False\n",
            "isinstance(child,Parent): True\n",
            "isinstance(child,Child): True\n",
            "issubclass(Child,Child): True\n",
            "issubclass(Child,Parent): True\n",
            "issubclass(Child,object): True\n",
            "issubclass(int,object): True\n"
          ]
        }
      ]
    },
    {
      "cell_type": "markdown",
      "source": [
        "### 2、Python数值类型\n",
        "**python支持4种数值类型：int、float、bool、complex**，他们都是不可变类型！！\n",
        "\n",
        "在python3中，整数并不区分int和long，浮点数并不区分float和double。这在底层是如何实现的呢？\n",
        "\n",
        "a、对于整型int\n",
        "+ 如果是小整型，python直接使用固定内存。在下面的例子中可以看到，两个对象都等于42，他们底层指向的地址是同一个。\n",
        "+ 如果是大整数，python使用多个机器字的数组来存储。从下面的例子可以看出，超大整数占用的内存要比大整数大很多\n",
        "\n",
        "可以用 `sys.getsizeof(对象)` 来查看对象的内存占用"
      ],
      "metadata": {
        "id": "95qv9YjSmdXy"
      }
    },
    {
      "cell_type": "code",
      "source": [
        "# python存储整型原理的示意\n",
        "import sys\n",
        "\n",
        "# 定义小整型、大整型和一个巨大的整数\n",
        "small_int = 42          # 小整数\n",
        "small_int2 = 42\n",
        "print(id(small_int)==id(small_int2))\n",
        "big_int = 1234567890123456789012345678901234567890\n",
        "huge_int = 2**1000    # 2的1000次方\n",
        "\n",
        "print(f\"小整数: {small_int}\")\n",
        "print(f\"大整数: {big_int}\")\n",
        "print(f\"超大整数位数: {len(str(huge_int))} 位\")\n",
        "\n",
        "# 查看内存占用\n",
        "print(f\"小整数占用: {sys.getsizeof(small_int)} 字节\")\n",
        "print(f\"大整数占用: {sys.getsizeof(big_int)} 字节\")\n",
        "print(f\"超大整数占用: {sys.getsizeof(huge_int)} 字节\")"
      ],
      "metadata": {
        "colab": {
          "base_uri": "https://localhost:8080/"
        },
        "id": "SSRo59ByYnYX",
        "outputId": "ae17919d-d11d-4b9b-e890-38727bfefab7"
      },
      "execution_count": 15,
      "outputs": [
        {
          "output_type": "stream",
          "name": "stdout",
          "text": [
            "True\n",
            "小整数: 42\n",
            "大整数: 1234567890123456789012345678901234567890\n",
            "超大整数位数: 302 位\n",
            "小整数占用: 28 字节\n",
            "大整数占用: 44 字节\n",
            "超大整数占用: 160 字节\n"
          ]
        }
      ]
    },
    {
      "cell_type": "markdown",
      "source": [
        "b、对于浮点数float，python遵循IEEE 754 双精度标准。如果需要更高的精度，可以额外使用decimal模块实现"
      ],
      "metadata": {
        "id": "-wzynzjxqcRV"
      }
    },
    {
      "cell_type": "code",
      "source": [
        "# 浮点数精度测试\n",
        "import sys\n",
        "\n",
        "# 浮点数的精度限制\n",
        "print(f\"浮点数精度: {sys.float_info}\")\n",
        "\n",
        "# 精度问题示例\n",
        "a = 0.1\n",
        "b = 0.2\n",
        "c = a + b\n",
        "print(f\"0.1 + 0.2 = {c}\")                    # 0.30000000000000004\n",
        "print(f\"0.1 + 0.2 == 0.3: {c == 0.3}\")      # False\n",
        "\n",
        "# 浮点数的表示范围\n",
        "max_float = sys.float_info.max\n",
        "min_float = sys.float_info.min\n",
        "print(f\"最大浮点数: {max_float}\")\n",
        "print(f\"最小正浮点数: {min_float}\")"
      ],
      "metadata": {
        "colab": {
          "base_uri": "https://localhost:8080/"
        },
        "id": "l3adDnz0qdNz",
        "outputId": "80f5c2e9-96fd-4e49-c589-56e0661a0d3c"
      },
      "execution_count": 16,
      "outputs": [
        {
          "output_type": "stream",
          "name": "stdout",
          "text": [
            "浮点数精度: sys.float_info(max=1.7976931348623157e+308, max_exp=1024, max_10_exp=308, min=2.2250738585072014e-308, min_exp=-1021, min_10_exp=-307, dig=15, mant_dig=53, epsilon=2.220446049250313e-16, radix=2, rounds=1)\n",
            "0.1 + 0.2 = 0.30000000000000004\n",
            "0.1 + 0.2 == 0.3: False\n",
            "最大浮点数: 1.7976931348623157e+308\n",
            "最小正浮点数: 2.2250738585072014e-308\n"
          ]
        }
      ]
    },
    {
      "cell_type": "markdown",
      "source": [
        "其他：\n",
        "+ 数值类型的计算：+、-、*、/（返回浮点数）、//（返回整数）、%（取余）、\\*\\*（乘方）"
      ],
      "metadata": {
        "id": "INAhQbHSrzdC"
      }
    },
    {
      "cell_type": "markdown",
      "source": [
        "### 3、String类型\n",
        "String类型的基础操作：\n",
        "+ +用于字符串拼接\n",
        "+ *用于字符串重复\n",
        "+ 可进行切片操作\n",
        "+ 使用\\可以转义特殊字符，如果不喜欢进行转移操作，可以在字符串前面加一个\"r\"\n",
        "\n",
        "注意，String也是一个不可变类型，它虽然可以通过切片操作获取片段，或用过s\\[index\\]来获得指定位置的字符，但是不能利用切片或索引修改。"
      ],
      "metadata": {
        "id": "Rjyjidv0vbJF"
      }
    },
    {
      "cell_type": "markdown",
      "source": [
        "### 4、bool类型\n",
        "布尔类型即 True 或 False。布尔类型的特点：\n",
        "+ 布尔类型只有两个值：True 和 False。\n",
        "+ bool 是 int 的子类，因此布尔值可以被看作整数来使用和运算，其中 True 等价于 1，False 等于 0。\n",
        "+ 布尔类型可以和逻辑运算符一起使用，包括 and、or 和 not。这些运算符可以用来组合多个布尔表达式，生成一个新的布尔值。\n",
        "+ 可以使用 bool() 函数将其他类型的值转换为布尔值。以下值在转换为布尔值时为 False：None、False、零 (0、0.0、0j)、空序列（如 ''、()、[]）和空映射（如 {}）。其他所有值转换为布尔值时均为 True。"
      ],
      "metadata": {
        "id": "stOthLjjwBCf"
      }
    },
    {
      "cell_type": "markdown",
      "source": [
        "### 5、List列表\n",
        "列表的特性：\n",
        "+ 列表中元素的类型可以不相同，它支持数字，字符串甚至可以包含列表。\n",
        "+ 和字符串一样，列表同样可以被索引和切片。\n",
        "+ 和字符串一样，列表也可以通过+拼接、通过*重复\n",
        "+ 和字符串不同的是，列表是 **可变类型** 列表的值可以修改！\n",
        "\n",
        "列表的基本操作在如下的代码中用实例介绍："
      ],
      "metadata": {
        "id": "1QDfisebxX6W"
      }
    },
    {
      "cell_type": "code",
      "source": [
        "a = [1,2,3,4,5,6]\n",
        "\n",
        "# （1）列表的索引与修改\n",
        "print(a[1])   # 2\n",
        "a[2] = [3.5,2]\n",
        "print(a)      # [1, 2, [3.5, 2], 4, 5, 6]\n",
        "\n",
        "#（2）列表的切片与修改。列表对象[起始位置:结束为止（不包含）:步长（默认为1）]\n",
        "print(a[2:-2])  #[[3.5, 2], 4]\n",
        "print(a[::2])   # 步长为2，输出：[1, [3.5, 2], 5]\n",
        "print(a[-1:1:-1])  # 步长为-1，起始位置翻转，等价于翻转输出：[6, 5, 4, [3.5, 2]]\n",
        "\n",
        "# 可以修改切片内容\n",
        "a[2:4] = []\n",
        "print(a)  # [1, 2, 5, 6]\n"
      ],
      "metadata": {
        "colab": {
          "base_uri": "https://localhost:8080/"
        },
        "id": "xAQJ185Tsb5t",
        "outputId": "aa3f0034-a570-4cdd-e2ba-fabdeb103d9f"
      },
      "execution_count": 20,
      "outputs": [
        {
          "output_type": "stream",
          "name": "stdout",
          "text": [
            "2\n",
            "[1, 2, [3.5, 2], 4, 5, 6]\n",
            "[[3.5, 2], 4]\n",
            "[1, [3.5, 2], 5]\n",
            "[6, 5, 4, [3.5, 2]]\n",
            "[1, 2, 5, 6]\n"
          ]
        }
      ]
    },
    {
      "cell_type": "markdown",
      "source": [
        "### 6、Tuple元组\n",
        "元组（tuple）与列表类似，不同之处在于元组的元素不能修改。\n",
        "\n",
        "元祖的基本操作：\n",
        "+ +拼接、*重复\n",
        "+ 切片读取\n",
        "\n",
        "元组使用需要注意的点：\n",
        "+ 虽然元组是不可变类型，但是元组中可以包含可变对象，例如列表，而且元组中的可变对象依旧是可变的\n",
        "+ 包含0或者1个元素的元组写法比较特殊。如下代码所示："
      ],
      "metadata": {
        "id": "go7TLMptzgjc"
      }
    },
    {
      "cell_type": "code",
      "source": [
        "# 包含0个元素的元组\n",
        "t1 = ()\n",
        "# 包含1个元素的元组，注意，逗号不能省略\n",
        "t2 = (10,)\n",
        "# 如果逗号省略，会被认为是一个算式，会得到算式的返回值\n",
        "t3 = (10)\n",
        "print(\"t1,t2,t3 = \",t1,t2,t3)"
      ],
      "metadata": {
        "colab": {
          "base_uri": "https://localhost:8080/"
        },
        "id": "onhnmv32vYVn",
        "outputId": "3a057fec-5049-452d-f256-8809072f6c07"
      },
      "execution_count": 22,
      "outputs": [
        {
          "output_type": "stream",
          "name": "stdout",
          "text": [
            "t1,t2,t3 =  () (10,) 10\n"
          ]
        }
      ]
    },
    {
      "cell_type": "markdown",
      "source": [
        "### 7、Set集合\n",
        "Python 中的集合（Set）是一种无序、可变的数据类型。集合中的元素不会重复，并且可以进行交集、并集、差集等常见的集合操作。\n",
        "\n",
        "在 Python 中，集合使用大括号 {} 表示，元素之间用逗号 , 分隔。另外，也可以使用 set() 函数创建集合。\n",
        "\n",
        "注意：创建一个空集合必须用 set() 而不是 { }，因为 { } 是用来创建一个空字典。"
      ],
      "metadata": {
        "id": "M7hATghf1Zu1"
      }
    },
    {
      "cell_type": "code",
      "source": [
        "s1  = {1,2,3,4,5}\n",
        "s2 = {4,5,6,7,8}\n",
        "# 判断元素是否在集合中\n",
        "print(2 in s1,2 in s2) # True False\n",
        "# 差集\n",
        "print(s1-s2)    # {1, 2, 3}\n",
        "# 并集\n",
        "print(s1 | s2)  # {1, 2, 3, 4, 5, 6, 7, 8}\n",
        "# 交集\n",
        "print(s1 & s2)  # {4, 5}\n",
        "# 并-交\n",
        "print(s1 ^ s2)  # {1, 2, 3, 6, 7, 8}"
      ],
      "metadata": {
        "colab": {
          "base_uri": "https://localhost:8080/"
        },
        "id": "lK-QUb7e1rON",
        "outputId": "6656e783-7121-44b9-9ade-fa62414dd03d"
      },
      "execution_count": 24,
      "outputs": [
        {
          "output_type": "stream",
          "name": "stdout",
          "text": [
            "True False\n",
            "{1, 2, 3}\n",
            "{1, 2, 3, 4, 5, 6, 7, 8}\n",
            "{4, 5}\n",
            "{1, 2, 3, 6, 7, 8}\n"
          ]
        }
      ]
    },
    {
      "cell_type": "markdown",
      "source": [
        "### 8、Dict字典\n",
        "字典当中的元素是通过键来存取的。键(key)必须使用不可变类型。在同一个字典中，键(key)必须是唯一的。字典的常用操作见以下代码："
      ],
      "metadata": {
        "id": "mDn_kYXO2hUg"
      }
    },
    {
      "cell_type": "code",
      "source": [
        "d = {}\n",
        "d[\"a\"] = 1\n",
        "d[2] = \"b\"\n",
        "print(d) # {'a': 1, 2: 'b'}\n",
        "print (d.keys())   # 输出所有键\n",
        "print (d.values()) # 输出所有值\n",
        "\n",
        "# 可以从键值对里直接构造字典\n",
        "d2 = dict([(\"key1\",\"value1\"),(\"key2\",\"value2\"),(\"key3\",\"value3\")])\n",
        "print(d2)"
      ],
      "metadata": {
        "colab": {
          "base_uri": "https://localhost:8080/"
        },
        "id": "AVSUBtv-25Cr",
        "outputId": "2ad66d0e-fbc5-4cea-e1f9-33e53d7988f0"
      },
      "execution_count": 30,
      "outputs": [
        {
          "output_type": "stream",
          "name": "stdout",
          "text": [
            "{'a': 1, 2: 'b'}\n",
            "dict_keys(['a', 2])\n",
            "dict_values([1, 'b'])\n",
            "{'key1': 'value1', 'key2': 'value2', 'key3': 'value3'}\n"
          ]
        }
      ]
    },
    {
      "cell_type": "markdown",
      "source": [
        "### 9、bytes类型\n",
        "bytes 类型是不可变的字节序列，用于表示二进制数据。它的每个元素的大小都为1B。\n",
        "\n",
        "作用：用于模拟计算机底层的存储逻辑，可以读取一些二进制文件，如图片、视频等。字符串也可以被编码成bytes类型\n",
        "\n",
        "bytes类型是一个序列，也支持+拼接、*重复、切片和索引，甚至还支持find、count、split、join操作"
      ],
      "metadata": {
        "id": "G6Fv7Tni4JN0"
      }
    },
    {
      "cell_type": "code",
      "source": [
        "# bytes类型的创建方式\n",
        "ascii_bytes = b'ASCII text'\n",
        "print(f\"ASCII bytes: {ascii_bytes}\")\n",
        "\n",
        "# 2. 使用 bytes() 构造函数\n",
        "empty_bytes = bytes()  # 空 bytes\n",
        "from_list = bytes([72, 101, 108, 108, 111])  # Hello\n",
        "from_string = bytes('Hello', encoding='utf-8')\n",
        "\n",
        "print(f\"空 bytes: {empty_bytes}\")\n",
        "print(f\"从列表创建: {from_list}\")\n",
        "print(f\"从字符串创建: {from_string}\")\n",
        "\n",
        "# 3. 使用 .encode() 方法\n",
        "text = \"Hello, 世界!\"\n",
        "utf8_bytes = text.encode('utf-8')\n",
        "ascii_bytes2 = \"hello\".encode('ascii')\n",
        "\n",
        "print(f\"UTF-8 编码: {utf8_bytes}\")\n",
        "print(f\"ASCII 编码: {ascii_bytes2}\")"
      ],
      "metadata": {
        "colab": {
          "base_uri": "https://localhost:8080/"
        },
        "id": "wtfphZjG5CJO",
        "outputId": "8874c2d4-bd47-437a-f2d0-d95d10c2e2e6"
      },
      "execution_count": 32,
      "outputs": [
        {
          "output_type": "stream",
          "name": "stdout",
          "text": [
            "ASCII bytes: b'ASCII text'\n",
            "空 bytes: b''\n",
            "从列表创建: b'Hello'\n",
            "从字符串创建: b'Hello'\n",
            "UTF-8 编码: b'Hello, \\xe4\\xb8\\x96\\xe7\\x95\\x8c!'\n",
            "ASCII 编码: b'hello'\n"
          ]
        }
      ]
    },
    {
      "cell_type": "code",
      "source": [
        "# bytes类型的切片\n",
        "data = b'Python'\n",
        "\n",
        "print(f\"第一个字节: {data[0]}\")      # 80 (P 的 ASCII)\n",
        "print(f\"前两个字节: {data[0:2]}\")    # b'Py'\n",
        "print(f\"最后一个字节: {data[-1]}\")    # 110 (n 的 ASCII)\n"
      ],
      "metadata": {
        "colab": {
          "base_uri": "https://localhost:8080/"
        },
        "id": "Yckn9XEY5jv0",
        "outputId": "739d4421-3772-42d5-8641-88fba0cbfae9"
      },
      "execution_count": 33,
      "outputs": [
        {
          "output_type": "stream",
          "name": "stdout",
          "text": [
            "第一个字节: 80\n",
            "前两个字节: b'Py'\n",
            "最后一个字节: 110\n"
          ]
        }
      ]
    },
    {
      "cell_type": "code",
      "source": [
        "# bytes类型和str的转化\n",
        "\n",
        "# str -> bytes (编码)\n",
        "text = \"Hello, 世界!\"\n",
        "bytes_data = text.encode('utf-8')\n",
        "print(f\"编码后: {bytes_data}\")\n",
        "\n",
        "# bytes -> str (解码)\n",
        "decoded_text = bytes_data.decode('utf-8')\n",
        "print(f\"解码后: {decoded_text}\")\n",
        "\n",
        "# 不同编码的转换\n",
        "text = \"中文\"\n",
        "gbk_bytes = text.encode('gbk')\n",
        "utf8_bytes = text.encode('utf-8')\n",
        "\n",
        "print(f\"GBK 编码: {gbk_bytes}\")\n",
        "print(f\"UTF-8 编码: {utf8_bytes}\")\n",
        "print(f\"GBK 解码: {gbk_bytes.decode('gbk')}\")\n",
        "print(f\"UTF-8 解码: {utf8_bytes.decode('utf-8')}\")"
      ],
      "metadata": {
        "colab": {
          "base_uri": "https://localhost:8080/"
        },
        "id": "iNYetXEz5x51",
        "outputId": "1cb1484e-a5d8-455f-d11f-2d8c9ee1e06c"
      },
      "execution_count": 34,
      "outputs": [
        {
          "output_type": "stream",
          "name": "stdout",
          "text": [
            "编码后: b'Hello, \\xe4\\xb8\\x96\\xe7\\x95\\x8c!'\n",
            "解码后: Hello, 世界!\n",
            "GBK 编码: b'\\xd6\\xd0\\xce\\xc4'\n",
            "UTF-8 编码: b'\\xe4\\xb8\\xad\\xe6\\x96\\x87'\n",
            "GBK 解码: 中文\n",
            "UTF-8 解码: 中文\n"
          ]
        }
      ]
    },
    {
      "cell_type": "markdown",
      "source": [
        "### 10、数据类型转化\n",
        "\n",
        "**（1）隐式类型转换**\n",
        "\n",
        "在python中，可以隐式类型转换的类型级别从低到高分别为：**布尔值 (bool) → 整数 (int) → 浮点数 (float) → 复数 (complex)**。\n",
        "\n",
        "当不同类型混合运算时，低级别会向更高级别的类型转换，最终计算得到一个更高级别的值\n",
        "\n",
        "**（2）显式类型转化**\n",
        "\n",
        "显式类型转化即使用特定的函数，将对象类型转化为所需的数据类型。常用的显式类型转化函数：\n",
        "+ `int(x[,base])`：其中x可以是数字或字符串，当x是字符串的时候，base用于指定字符串对应的进制数，默认=10\n",
        "+ `float(x)`：x是整型或字符串，将其转化为浮点数\n",
        "+ `str(x)`：将x转化为字符串，x可以是任意对象\n",
        "+ `repr(x)`：将对象 x 转换为表达式字符串\n",
        "+ `eval(expression)`：将字符串 expression 解析为 Python 表达式，并执行它返回一个对象\n",
        "+ `tuple(x)`：x是一个可迭代序列（iterable ），将可迭代对象转化为元组\n",
        "+ `list(x)`：x是一个可迭代序列（iterable ），将可迭代对象转化为列表\n",
        "+ `set(x)`：x是一个可迭代序列（iterable ），删除重复数据，将可迭代对象转化为集合\n",
        "+ `dict(d)`：这里的d可以是一个\\*\\*kwarg，可以是mapping，即映射函数方法，如zip([],[])，也可以是存储(key,value)的元组列表，将其转化为字典类型\n",
        "+ `frozenset(s)` : s 是一个可迭代序列（iterable ），删除重复元素，返回一个不可变集合\n",
        "+ `chr(x)`：将一个整数转化为一个字符\n",
        "+ `ord(x)`：将一个字符转化为它的整数值\n",
        "+ `hex(x)`：将一个整数转化为十六进制字符串\n",
        "+ `oct(x)`：将一个整数转化为八进制字符串\n"
      ],
      "metadata": {
        "id": "X83EeD4EI7UF"
      }
    },
    {
      "cell_type": "code",
      "source": [
        "# （1）int() 演示\n",
        "print(int(3.6))   # 保留整数部分3\n",
        "print(int('12',16)) # 18\n",
        "print(int('0xa',16)) # 10\n",
        "\n",
        "# （2）float() 演示\n",
        "print(float(2)) # 2.0\n",
        "print(float(\"-124.9\"))\n",
        "\n",
        "# （3）str 和 repr 的区别：一般对象的实现都会重写obj.__str__()，obj.__repr__()，分别就是str方法和repr方法的输出。如果没有重写，那就会调用object的实现\n",
        "# python 留着两种方法的意图是：\n",
        "# str 的输出主要对用户展示，可读性，友好展示\n",
        "# repr 的输出目的在于明确性、无歧义性，常用于调试\n",
        "# 观察标准库/基本数据类型两者的区别：\n",
        "s = \"Hello\\nWorld\"\n",
        "\n",
        "# Hello\n",
        "# World\n",
        "print(str(s))\n",
        "print(repr(s))  # 'Hello\\nWorld'\n",
        "\n",
        "import datetime\n",
        "today = datetime.datetime.now()\n",
        "\n",
        "print(str(today))   # 输出：2025-09-29 11:35:22.553370\n",
        "print(repr(today))  # 输出：datetime.datetime(2025, 9, 29, 11, 35, 22, 553370)\n",
        "\n",
        "# 其他的略"
      ],
      "metadata": {
        "colab": {
          "base_uri": "https://localhost:8080/"
        },
        "id": "o70tD9OHONNE",
        "outputId": "c555cc77-3dfd-4a6c-b99f-53903b484d2c"
      },
      "execution_count": 39,
      "outputs": [
        {
          "output_type": "stream",
          "name": "stdout",
          "text": [
            "3\n",
            "18\n",
            "10\n",
            "2.0\n",
            "-124.9\n",
            "Hello\n",
            "World\n",
            "'Hello\\nWorld'\n",
            "2025-09-29 11:35:22.553370\n",
            "datetime.datetime(2025, 9, 29, 11, 35, 22, 553370)\n"
          ]
        }
      ]
    },
    {
      "cell_type": "markdown",
      "source": [
        "## 二、Python的运算符\n",
        "1、算数运算符：+、-、*、/、//、%、**\n",
        "\n",
        "2、比较运算符：==、!=、<、>、<=、>=\n",
        "\n",
        "3、赋值运算符：=、+=、-=、*=、/=、%=、**=、//=\n",
        "\n",
        "4、逻辑运算符：and、or、not\n",
        "\n",
        "5、位运算符：&、|、^、～、<<、>>\n",
        "\n",
        "6、成员运算符：in、not in，判断某元素是否在序列当中\n",
        "\n",
        "7、身份运算符：is、not is，x is y运算等价于id(x)==id(y)"
      ],
      "metadata": {
        "id": "_7RmVLqCRJ_8"
      }
    },
    {
      "cell_type": "markdown",
      "source": [
        "## 三、常用函数\n",
        "\n",
        "### 1、数学函数\n",
        "+ `abs(x)`：返回绝对值\n",
        "+ `math.fabs(x)`：以浮点数返回x的绝对值\n",
        "+ `math.ceil(x)`：向上取整\n",
        "+ `math.floor(x)`：向下取整\n",
        "+ `math.exp(x)`：返回e的x次幂\n",
        "+ `math.log(x)`：返回ln(x)\n",
        "+ `math.log10(x)`：返回x的10底对数\n",
        "+ `max(x1,x2,...)`：返回给定参数中的最大值，参数可以是序列\n",
        "+ `min(x1,x2,...)`：返回给定参数中的最小值，参数可以是序列\n",
        "+ `math.modf(x)`：返回(x的小数部分,x的整数部分)\n",
        "+ `math.pow(x,y)`：等价于x**y\n",
        "+ `math.round(x[,n])`：对x四舍五入，保留n位小数，n默认0\n",
        "+ `math.sqrt(x)`：开根号\n",
        "\n"
      ],
      "metadata": {
        "id": "TPkT1YylRN41"
      }
    },
    {
      "cell_type": "markdown",
      "source": [
        "### 2、随机函数\n",
        "+ `random.choice(seq)`：从序列的元素中随机挑选一个元素\n",
        "+ `random.random()`：生成0～1的随机数\n",
        "+ `random.seed(x)`：改变随机数生成的种子\n",
        "+ `random.shuffle(lst)`：将序列所有元素随机排序，会修改原序列\n",
        "+ `random.uniform(x,y)`：随机生成\\[x,y\\]范围内的一个实数\n",
        "+ `random.randrange([start,],stop[,step])`：从range里随机采样一个数"
      ],
      "metadata": {
        "id": "Mf8-UptSWzNu"
      }
    },
    {
      "cell_type": "markdown",
      "source": [],
      "metadata": {
        "id": "xKI2dTyRXQBJ"
      }
    }
  ]
}