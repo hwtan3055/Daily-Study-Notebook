{
  "nbformat": 4,
  "nbformat_minor": 0,
  "metadata": {
    "colab": {
      "provenance": [],
      "authorship_tag": "ABX9TyN37xAp64WCQKzcThjjh2KC",
      "include_colab_link": true
    },
    "kernelspec": {
      "name": "python3",
      "display_name": "Python 3"
    },
    "language_info": {
      "name": "python"
    }
  },
  "cells": [
    {
      "cell_type": "markdown",
      "metadata": {
        "id": "view-in-github",
        "colab_type": "text"
      },
      "source": [
        "<a href=\"https://colab.research.google.com/github/hwtan3055/Daily-Study-Notebook/blob/main/Python%E5%AD%A6%E4%B9%A0%E6%8C%87%E5%8D%97/Python%E5%9F%BA%E7%A1%80/Python%E5%9F%BA%E7%A1%80%E8%AF%AD%E6%B3%95.ipynb\" target=\"_parent\"><img src=\"https://colab.research.google.com/assets/colab-badge.svg\" alt=\"Open In Colab\"/></a>"
      ]
    },
    {
      "cell_type": "code",
      "execution_count": null,
      "metadata": {
        "id": "7jUcHhkel3k2"
      },
      "outputs": [],
      "source": []
    }
  ]
}