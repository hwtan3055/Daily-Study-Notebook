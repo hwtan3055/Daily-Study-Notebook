{
  "nbformat": 4,
  "nbformat_minor": 0,
  "metadata": {
    "colab": {
      "provenance": [],
      "authorship_tag": "ABX9TyMWse8du9s7328Dk+yjEXBx",
      "include_colab_link": true
    },
    "kernelspec": {
      "name": "python3",
      "display_name": "Python 3"
    },
    "language_info": {
      "name": "python"
    }
  },
  "cells": [
    {
      "cell_type": "markdown",
      "metadata": {
        "id": "view-in-github",
        "colab_type": "text"
      },
      "source": [
        "<a href=\"https://colab.research.google.com/github/hwtan3055/Daily-Study-Notebook/blob/main/Python%E5%AD%A6%E4%B9%A0%E6%8C%87%E5%8D%97%20/Python%E5%9F%BA%E7%A1%80/02Python%E8%BF%AD%E4%BB%A3%E5%99%A8%E4%B8%8E%E7%94%9F%E6%88%90%E5%99%A8.ipynb\" target=\"_parent\"><img src=\"https://colab.research.google.com/assets/colab-badge.svg\" alt=\"Open In Colab\"/></a>"
      ]
    },
    {
      "cell_type": "markdown",
      "source": [
        "## 一、Python推导式\n",
        "Python 推导式是一种强大且简洁的语法，适用于生成列表、字典、集合和生成器。\n",
        "\n",
        "虽然推导式很方便，但是要注意可读性\n",
        "\n",
        "### 1、列表推导式\n",
        "按照复杂程度的不同，有2种格式：\n",
        "+ `[表达式 for 变量 in 列表] `\n",
        "+ `[表达式 for 变量 in 列表 if 条件]`\n",
        "\n",
        "由于python有条件表达式：`value_if_true if condition else value_if_false`，所以第一种列表推导式可以扩展为以下写法\n",
        "+ `[表达式 if 条件 else 表达式2 for 变量 in 列表 ]`"
      ],
      "metadata": {
        "id": "fJYfge7c_w9O"
      }
    },
    {
      "cell_type": "code",
      "execution_count": 3,
      "metadata": {
        "colab": {
          "base_uri": "https://localhost:8080/"
        },
        "id": "fyhNHPNptJHN",
        "outputId": "624e59c2-b43b-4f62-ac0f-8786df6488c9"
      },
      "outputs": [
        {
          "output_type": "stream",
          "name": "stdout",
          "text": [
            "[1, 4, 9, 16] [2, 4] ['odd', 'even', 'odd', 'even']\n"
          ]
        }
      ],
      "source": [
        "x = [1,2,3,4]\n",
        "x2 = [i**2 for i in x]  # 对每个元素做平方生成新列表 [1, 4, 9, 16]\n",
        "x3 = [i for i in x if i%2==0]   # 筛选列表中的偶数形成新列表 [2, 4]\n",
        "x4 = [\"even\" if i%2==0 else \"odd\" for i in x]   # 打奇偶标记，生成新列表 ['odd', 'even', 'odd', 'even']\n",
        "\n",
        "print(x2,x3,x4)"
      ]
    },
    {
      "cell_type": "markdown",
      "source": [
        "### 2、字典推导式\n",
        "`{ key_expr: value_expr for value in collection }`\n",
        "\n",
        "或\n",
        "\n",
        "`{ key_expr: value_expr for value in collection if condition }`"
      ],
      "metadata": {
        "id": "KpiBsq03vF8F"
      }
    },
    {
      "cell_type": "code",
      "source": [
        "# 字典推导式举例\n",
        "scores = [85, 92, 78, 45, 60, 95]\n",
        "result = {\n",
        "    f\"student_{i}\": (\"pass\" if score >= 60 else \"fail\", score)\n",
        "    for i, score in enumerate(scores)\n",
        "}\n",
        "print(result)"
      ],
      "metadata": {
        "colab": {
          "base_uri": "https://localhost:8080/"
        },
        "id": "Yh0T_o71vNo2",
        "outputId": "8ebaa1cf-8f4e-4a9f-8302-0bbc15da6c76"
      },
      "execution_count": 4,
      "outputs": [
        {
          "output_type": "stream",
          "name": "stdout",
          "text": [
            "{'student_0': ('pass', 85), 'student_1': ('pass', 92), 'student_2': ('pass', 78), 'student_3': ('fail', 45), 'student_4': ('pass', 60), 'student_5': ('pass', 95)}\n"
          ]
        }
      ]
    },
    {
      "cell_type": "markdown",
      "source": [
        "### 3、集合推导式\n",
        "`{ expression for item in Sequence }`\n",
        "或\n",
        "`{ expression for item in Sequence if conditional }`"
      ],
      "metadata": {
        "id": "83YqX2jYv3n2"
      }
    },
    {
      "cell_type": "markdown",
      "source": [
        "## 二、Python迭代器和生成器\n",
        "### 1、迭代器模式\n",
        "迭代器模式 是一种行为设计模式，它提供了一种方法，使得可以顺序访问一个聚合对象（如列表、集合、字典等）中的各个元素，而又不需要暴露该对象的内部表示。\n",
        "\n",
        "**为什么需要迭代器模式？**如果没有迭代器模式：\n",
        "+ 遍历方式与数据结构强耦合，集合类型的底层实现可能是数组、链表、树，都对应着不同的遍历方式。甚至一个集合如果底层实现的数据结构发生更改，所有遍历的代码都要重写\n",
        "+ 代码重复：每个需要遍历的地方都要写一遍遍历逻辑\n",
        "+ 违反单一职责原则：一个集合类不应该同时负责存储数据和遍历数据。集合的核心职责是高效地管理数据，而遍历是另一个独立的职责。\n",
        "\n",
        "迭代器模式的核心目的就是解决上述问题，它将遍历的职责分离出来，让客户端可以用统一的方式处理不同的聚合对象。\n",
        "\n",
        "#### 2、Python 可迭代对象\n",
        "一个Python对象要成为可迭代对象，最关键的特点是：它必须实现 `__iter__()` 方法，或者实现 `__getitem__()` 方法\n",
        "\n",
        "（1） 实现 `__iter__()` 方法：\n",
        "\n",
        "**工作流程：**当使用 for 循环遍历一个可迭代对象时，Python解释器会首先自动调用该对象的 __iter__() 方法来获取一个迭代器，然后反复调用迭代器的 __next__() 方法来获取下一个值，直到抛出 StopIteration 异常为止。\n",
        "\n",
        "（2）实现 `__getitem__()` 方法：\n",
        "\n",
        "如果一个类没有实现 `__iter__()` 方法，但实现了 `__getitem__()` 方法，并且该方法接受从0开始的整数索引（即 obj\\[0], obj\\[1]... 是有效的），那么Python会尝试按索引顺序遍历它。\n",
        "\n",
        "**工作流程：**Python会从索引0开始，依次尝试 obj\\[0], obj\\[1], obj\\[2]...，直到索引超出范围并引发 IndexError 异常，遍历停止。\n",
        "\n",
        "注意，是`__getitem__()` 方法为一个对象提供了按下表索引和切片的能力"
      ],
      "metadata": {
        "id": "0ANUuTT_wB08"
      }
    },
    {
      "cell_type": "code",
      "source": [
        "# 使用__getitem__遍历的例子\n",
        "class Iterable_case1:\n",
        "  def __init__(self):\n",
        "    self.data = [1,2,3]\n",
        "  def __getitem__(self, index):\n",
        "    return self.data[index]\n",
        "\n",
        "case1 = Iterable_case1()\n",
        "for i in case1:\n",
        "  print(i)\n",
        "\n",
        "print(case1[1:])"
      ],
      "metadata": {
        "colab": {
          "base_uri": "https://localhost:8080/"
        },
        "id": "E4u73-ufA_N8",
        "outputId": "4366ff19-14dc-4a82-e845-8829bc56557c"
      },
      "execution_count": 16,
      "outputs": [
        {
          "output_type": "stream",
          "name": "stdout",
          "text": [
            "1\n",
            "2\n",
            "3\n",
            "[2, 3]\n"
          ]
        }
      ]
    },
    {
      "cell_type": "code",
      "source": [
        "class Iter_case2:\n",
        "  def __init__(self,Iterable_case):\n",
        "    self.Iterable_case = Iterable_case\n",
        "    self.index = 0\n",
        "  def __next__(self):\n",
        "    if self.index >= len(self.Iterable_case.data):\n",
        "      raise StopIteration # 越界要抛出迭代停止的异常\n",
        "    result = self.Iterable_case.data[self.index]\n",
        "    self.index += 1\n",
        "    return result\n",
        "\n",
        "class Iterable_case2:\n",
        "  def __init__(self):\n",
        "    self.data = [1,2,3]\n",
        "  def __iter__(self):\n",
        "    return Iter_case2(self)\n",
        "\n",
        "case2 = Iterable_case2()\n",
        "for i in case2:\n",
        "  print(i)\n",
        "\n",
        "print(case2[1:])  # 不具备切片能力"
      ],
      "metadata": {
        "colab": {
          "base_uri": "https://localhost:8080/",
          "height": 233
        },
        "id": "hb0VIvUiBWFE",
        "outputId": "6f0f6d20-9301-43a9-8cbc-843adfc8f12b"
      },
      "execution_count": 17,
      "outputs": [
        {
          "output_type": "stream",
          "name": "stdout",
          "text": [
            "1\n",
            "2\n",
            "3\n"
          ]
        },
        {
          "output_type": "error",
          "ename": "TypeError",
          "evalue": "'Iterable_case2' object is not subscriptable",
          "traceback": [
            "\u001b[0;31m---------------------------------------------------------------------------\u001b[0m",
            "\u001b[0;31mTypeError\u001b[0m                                 Traceback (most recent call last)",
            "\u001b[0;32m/tmp/ipython-input-1788749631.py\u001b[0m in \u001b[0;36m<cell line: 0>\u001b[0;34m()\u001b[0m\n\u001b[1;32m     20\u001b[0m   \u001b[0mprint\u001b[0m\u001b[0;34m(\u001b[0m\u001b[0mi\u001b[0m\u001b[0;34m)\u001b[0m\u001b[0;34m\u001b[0m\u001b[0;34m\u001b[0m\u001b[0m\n\u001b[1;32m     21\u001b[0m \u001b[0;34m\u001b[0m\u001b[0m\n\u001b[0;32m---> 22\u001b[0;31m \u001b[0mprint\u001b[0m\u001b[0;34m(\u001b[0m\u001b[0mcase2\u001b[0m\u001b[0;34m[\u001b[0m\u001b[0;36m1\u001b[0m\u001b[0;34m:\u001b[0m\u001b[0;34m]\u001b[0m\u001b[0;34m)\u001b[0m\u001b[0;34m\u001b[0m\u001b[0;34m\u001b[0m\u001b[0m\n\u001b[0m",
            "\u001b[0;31mTypeError\u001b[0m: 'Iterable_case2' object is not subscriptable"
          ]
        }
      ]
    },
    {
      "cell_type": "markdown",
      "source": [
        "**可迭代对象的用处：**\n",
        "+ 可以被for循环\n",
        "+ 可以被解包\n",
        "+ 可以用list()、set()等方法转化为基本数据结构"
      ],
      "metadata": {
        "id": "ste5pRcYC5kj"
      }
    },
    {
      "cell_type": "code",
      "source": [
        "# 演示解包：\n",
        "a,b,c = case1\n",
        "print(a,b,c)  # 1 2 3\n",
        "# 演示转化为基本数据结构\n",
        "print(list(case1))"
      ],
      "metadata": {
        "colab": {
          "base_uri": "https://localhost:8080/"
        },
        "id": "2rV76iCeB_0d",
        "outputId": "84df9e14-fae8-49b9-ea0a-eafe96a0e684"
      },
      "execution_count": 19,
      "outputs": [
        {
          "output_type": "stream",
          "name": "stdout",
          "text": [
            "1 2 3\n",
            "[1, 2, 3]\n"
          ]
        }
      ]
    },
    {
      "cell_type": "markdown",
      "source": [
        "#### 3、生成器\n",
        "\n",
        "当我们有创建大列表的需求，如创建一个包含100万个元素的列表，而我们对它的使用方法仅仅是遍历，那么不仅占用很大的存储空间，后面绝大多数元素占用的空间都白白浪费了。\n",
        "\n",
        "所以，如果列表元素可以按照某种算法推算出来，那我们是否可以在循环的过程中不断推算出后续的元素呢？这样就不必创建完整的list，从而节省大量的空间。在Python中，这种一边循环一边计算的机制，称为生成器：generator。\n",
        "\n",
        "**创建生成器的方法：**\n",
        "\n",
        "（1）最简单的方法：推导式`(expression for item in Sequence [if condition])`\n",
        "\n",
        "（2）常规方法：当一个函数里面有yield语句的时候，调用该函数就会得到一个生成器对象。每调用一次next方法，就会继续执行，直到遇到yield中断，返回yield生成的值，直到函数返回。\n",
        "\n",
        "注意：生成器是迭代器的一种！"
      ],
      "metadata": {
        "id": "A3Jng8LUOSam"
      }
    },
    {
      "cell_type": "code",
      "source": [
        "generator = (i*i for i in [1,2,3,4,5])\n",
        "print(type(generator))\n",
        "\n",
        "def fib(max):\n",
        "  a,b,n = 0,1,0\n",
        "  while n<max:\n",
        "    yield b\n",
        "    a,b = b,a+b\n",
        "    n+=1\n",
        "  return \"done\"\n",
        "\n",
        "fib_gen = fib(5)\n",
        "print(type(fib_gen))\n",
        "for i in fib_gen:\n",
        "  print(i)"
      ],
      "metadata": {
        "colab": {
          "base_uri": "https://localhost:8080/"
        },
        "id": "vpr3laH3QVIb",
        "outputId": "4f606253-4fbe-4982-9118-dab08d623c9f"
      },
      "execution_count": 22,
      "outputs": [
        {
          "output_type": "stream",
          "name": "stdout",
          "text": [
            "<class 'generator'>\n",
            "<class 'generator'>\n",
            "1\n",
            "1\n",
            "2\n",
            "3\n",
            "5\n"
          ]
        }
      ]
    },
    {
      "cell_type": "markdown",
      "source": [
        "#### 4、迭代器\n",
        "迭代器对象从集合的第一个元素开始访问，直到所有的元素被访问完结束。迭代器只能往前不会后退。\n",
        "\n",
        "迭代器有两个基本的方法：iter() 和 next()。\n",
        "\n",
        "**这里可能会有一个问题，迭代器不是有next()方法就可以了嘛？为什么也必须要有iter方法：**\n",
        "\n",
        "解决这个问题需要先明确两个概念：\n",
        "\n",
        "+ 有`__iter__()`方法的对象是可迭代对象\n",
        "+ 有`__iter__()`和`__next__()`方法的才是迭代器，所以迭代器一定是可迭代对象；\n",
        "\n",
        "观察一下python最通用的数据结构list是不是可迭代对象，是不是迭代器："
      ],
      "metadata": {
        "id": "4Zk8ZzlOW7hP"
      }
    },
    {
      "cell_type": "code",
      "source": [
        "my_list = [1, 2, 3]\n",
        "\n",
        "print(hasattr(my_list, '__iter__'))  # True - 有 __iter__ 方法\n",
        "print(hasattr(my_list, '__next__'))  # False - 没有 __next__ 方法\n",
        "\n",
        "list_iter = iter(my_list)\n",
        "print(hasattr(list_iter, '__iter__'))  # True - 有 __iter__ 方法\n",
        "print(hasattr(list_iter, '__next__'))  # True - 有 __next__ 方法\n",
        "\n",
        "new_iter = iter(list_iter)\n",
        "print(id(new_iter) == id(list_iter))  # True - 迭代器返回的迭代器指向自己"
      ],
      "metadata": {
        "colab": {
          "base_uri": "https://localhost:8080/"
        },
        "id": "Nu1ML8lcW7Ig",
        "outputId": "954f3e75-74c9-4629-865c-f2ab0784e699"
      },
      "execution_count": 25,
      "outputs": [
        {
          "output_type": "stream",
          "name": "stdout",
          "text": [
            "True\n",
            "False\n",
            "True\n",
            "True\n",
            "True\n"
          ]
        }
      ]
    },
    {
      "cell_type": "markdown",
      "source": [
        "从以上代码中获取的信息：\n",
        "+ （1）list是一个可迭代对象，但它没有next方法，所以它不是一个迭代器\n",
        "+ （2）iter(list)的返回值是一个迭代器对象\n",
        "+ （3）对该迭代器对象继续使用iter获取迭代器，指向的是迭代器自己！\n",
        "\n",
        "以上问题的答案：这是python刻意为之的一种设计选择，这是为了让迭代器可以在任何可以传入可迭代对象的地方使用。这样就不需要对可迭代对象和迭代器做区分。"
      ],
      "metadata": {
        "id": "qkBARyBEZmtg"
      }
    },
    {
      "cell_type": "code",
      "source": [
        "def process_items(items):\n",
        "    for item in items:  # 这里只关心对象是否可迭代\n",
        "        print(item)\n",
        "\n",
        "list_obj = [1, 2, 3]\n",
        "iterator = iter(list_obj)\n",
        "\n",
        "process_items(list_obj)   # ✓ 可以\n",
        "process_items(iterator)   # ✓ 也可以！"
      ],
      "metadata": {
        "colab": {
          "base_uri": "https://localhost:8080/"
        },
        "id": "USpdd3VobGlh",
        "outputId": "fc23c793-e0fa-4741-cab5-b3f7c63e5ff2"
      },
      "execution_count": 26,
      "outputs": [
        {
          "output_type": "stream",
          "name": "stdout",
          "text": [
            "1\n",
            "2\n",
            "3\n",
            "1\n",
            "2\n",
            "3\n"
          ]
        }
      ]
    },
    {
      "cell_type": "code",
      "source": [
        "# 迭代器的使用——for循环的底层原理\n",
        "a = [1,2,3,4,5]\n",
        "iter_a = iter(a)\n",
        "while True:\n",
        "  try:\n",
        "    print(next(iter_a))\n",
        "  except StopIteration:\n",
        "    break"
      ],
      "metadata": {
        "colab": {
          "base_uri": "https://localhost:8080/"
        },
        "id": "iwD4ALKtbtrH",
        "outputId": "01b1961f-c75c-4f74-de62-837f9218fada"
      },
      "execution_count": 27,
      "outputs": [
        {
          "output_type": "stream",
          "name": "stdout",
          "text": [
            "1\n",
            "2\n",
            "3\n",
            "4\n",
            "5\n"
          ]
        }
      ]
    }
  ]
}